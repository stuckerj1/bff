{
 "cells": [
  {
   "cell_type": "markdown",
   "id": "cell_title",
   "metadata": {},
   "source": [
    "# 📓 Benchmark Reset Helper Notebook\n",
    "\n",
    "Use this notebook to reset synthetic data files and drop all tables from BenchmarkLakehouse and BenchmarkWarehouse in Microsoft Fabric.\n",
    "- **Cell 1:** Delete all synthetic data files from DataSourceLakehouse\n",
    "- **Cell 2:** Delete all tables from BenchmarkLakehouse\n",
    "- **Cell 3:** Delete all tables from BenchmarkWarehouse\n",
    "\n",
    "**WARNING:** All operations are destructive! Run only what you need."
   ]
  },
  {
   "cell_type": "markdown",
   "id": "cell1_markdown",
   "metadata": {},
   "source": [
    "## 1. Reset Synthetic Data (Lakehouse Files)\n",
    "Deletes all files and folders in `DataSourceLakehouse/Files/base/` and `DataSourceLakehouse/Files/updates/` using abfss paths."
   ]
  },
  {
   "cell_type": "code",
   "id": "cell1_code",
   "metadata": {},
   "execution_count": null,
   "outputs": [],
   "source": [
    "# WARNING: This deletes ALL synthetic data files from DataSourceLakehouse\n",
    "from notebookutils import fs\n",
    "\n",
    "folders = [\n",
    "    \"abfss://FabricBenchmarking@onelake.dfs.fabric.microsoft.com/DataSourceLakehouse.Lakehouse/Files/base/\",\n",
    "    \"abfss://FabricBenchmarking@onelake.dfs.fabric.microsoft.com/DataSourceLakehouse.Lakehouse/Files/updates/\"\n",
    "]\n",
    "\n",
    "for folder in folders:\n",
    "    try:\n",
    "        fs.rm(folder, True)  # True = recursive delete\n",
    "        print(f\"Deleted folder and all contents: {folder}\")\n",
    "    except Exception as e:\n",
    "        print(f\"An error occurred deleting {folder}: {e}\")"
   ]
  },
  {
   "cell_type": "markdown",
   "id": "cell2_markdown",
   "metadata": {},
   "source": [
    "## 2. Reset Ingestion — Drop All Tables from BenchmarkLakehouse\n",
    "Drops all tables in the Lakehouse using Spark SQL."
   ]
  },
  {
   "cell_type": "code",
   "id": "cell2_code",
   "metadata": {},
   "execution_count": null,
   "outputs": [],
   "source": [
    "# WARNING: This drops ALL tables from BenchmarkLakehouse\n",
    "try:\n",
    "    tables = spark.catalog.listTables('BenchmarkLakehouse')\n",
    "    for t in tables:\n",
    "        spark.sql(f\"DROP TABLE IF EXISTS BenchmarkLakehouse.{t.name}\")\n",
    "    print('All tables dropped from BenchmarkLakehouse.')\n",
    "except Exception as e:\n",
    "    print('Error during BenchmarkLakehouse table reset:', e)"
   ]
  },
  {
   "cell_type": "markdown",
   "id": "cell3_markdown",
   "metadata": {},
   "source": [
    "## 3. Reset Ingestion — Drop All Tables from BenchmarkWarehouse\n",
    "Drops all tables in the Warehouse using T-SQL. **This cell must be run in a BenchmarkWarehouse SQL Query, not in the notebook.**"
   ]
  },
  {
   "cell_type": "code",
   "id": "cell3_sql",
   "metadata": {
     "language": "sql"
   },
   "execution_count": null,
   "outputs": [],
   "source": [
    "-- WARNING: This drops ALL tables from BenchmarkWarehouse\n",
    "-- THIS DOES NOT WORK HERE.  \n",
    "-- Run it in a BenchmarkWarehouse SQL Query\n",
    "\n",
    "-- List all tables in dbo schema\n",
    "SELECT TABLE_NAME FROM INFORMATION_SCHEMA.TABLES WHERE TABLE_SCHEMA = 'dbo';\n",
    "\n",
    "-- Bulk drop all tables in dbo schema\n",
    "DECLARE @sql NVARCHAR(MAX) = N'';\n",
    "SELECT @sql += 'DROP TABLE IF EXISTS [dbo].[' + TABLE_NAME + '];'\n",
    "FROM INFORMATION_SCHEMA.TABLES WHERE TABLE_SCHEMA = 'dbo';\n",
    "EXEC sp_executesql @sql;"
   ]
  },
  {
   "cell_type": "markdown",
   "id": "cell_done",
   "metadata": {},
   "source": [
    "---\n",
    "Run individual cells as needed. Operations are destructive!"
   ]
  }
 ],
 "metadata": {
  "kernelspec": {
   "name": "synapse_pyspark",
   "display_name": "Synapse PySpark"
  },
  "language_info": {
   "name": "python"
  }
 },
 "nbformat": 4,
 "nbformat_minor": 5
}
