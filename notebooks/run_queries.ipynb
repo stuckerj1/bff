{
 "cells": [
  {
   "cell_type": "markdown",
   "id": "234583b5",
   "metadata": {},
   "source": [
    "# 📓 Query Benchmarking Module\n"
   ]
  },
  {
   "cell_type": "code",
   "execution_count": null,
   "id": "51f268fc",
   "metadata": {
    "vscode": {
     "languageId": "plaintext"
    }
   },
   "outputs": [],
   "source": [
    "import time\n",
    "start = time.time()\n",
    "df = spark.sql(\"SELECT category, COUNT(*) FROM target_table GROUP BY category\")\n",
    "duration = time.time() - start\n",
    "print(f\"Query time: {duration}s\")"
   ]
  }
 ],
 "metadata": {
  "language_info": {
   "name": "python"
  }
 },
 "nbformat": 4,
 "nbformat_minor": 5
}
