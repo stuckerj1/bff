{
 "cells": [
  {
   "cell_type": "markdown",
   "id": "e6630581",
   "metadata": {},
   "source": [
    "# 📓 Synthetic Data Generator\n"
   ]
  },
  {
   "cell_type": "code",
   "execution_count": null,
   "id": "a182695d",
   "metadata": {
    "vscode": {
     "languageId": "plaintext"
    }
   },
   "outputs": [],
   "source": [
    "# Parameters\n",
    "row_count = 10000\n",
    "schema_config = {\n",
    "    \"id\": \"int\",\n",
    "    \"category\": \"string\",\n",
    "    \"value\": \"float\",\n",
    "    \"timestamp\": \"timestamp\"\n",
    "}\n",
    "distribution = \"uniform\"\n",
    "\n",
    "# Generate base dataset\n",
    "df = spark.range(0, row_count).withColumn(\"category\", ...)\n",
    "df.write.format(\"parquet\").save(\"/lakehouse/base/parquet_10k\")\n",
    "\n",
    "# Generate update slice\n",
    "update_df = df.sample(fraction=0.01).withColumn(\"change_type\", ...)\n",
    "update_df.write.format(\"parquet\").save(\"/lakehouse/updates/parquet_10k\")"
   ]
  }
 ],
 "metadata": {
  "language_info": {
   "name": "python"
  }
 },
 "nbformat": 4,
 "nbformat_minor": 5
}
