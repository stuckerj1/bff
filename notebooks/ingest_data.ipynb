{
 "cells": [
  {
   "cell_type": "markdown",
   "id": "5d8fc8b6",
   "metadata": {},
   "source": [
    "# 📓 Ingestion Module\n"
   ]
  },
  {
   "cell_type": "code",
   "execution_count": null,
   "id": "cb796301",
   "metadata": {
    "vscode": {
     "languageId": "plaintext"
    }
   },
   "outputs": [],
   "source": [
    "input_path = f\"/lakehouse/base/parquet_{row_count}\"\n",
    "df = spark.read.format(\"parquet\").load(input_path)\n",
    "\n",
    "# Apply ingestion strategy\n",
    "if strategy == \"overwrite\":\n",
    "    df.write.mode(\"overwrite\").saveAsTable(\"target_table\")\n",
    "elif strategy == \"append\":\n",
    "    df.write.mode(\"append\").saveAsTable(\"target_table\")"
   ]
  }
 ],
 "metadata": {
  "language_info": {
   "name": "python"
  }
 },
 "nbformat": 4,
 "nbformat_minor": 5
}
